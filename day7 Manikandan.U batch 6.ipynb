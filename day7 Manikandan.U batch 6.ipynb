{
 "cells": [
  {
   "cell_type": "code",
   "execution_count": 4,
   "metadata": {},
   "outputs": [],
   "source": [
    "##ASSIGNMENT1"
   ]
  },
  {
   "cell_type": "code",
   "execution_count": 9,
   "metadata": {},
   "outputs": [
    {
     "name": "stdout",
     "output_type": "stream",
     "text": [
      "{'FTP': [21], 'SSH': [22], 'telnet': [23], 'http': [80]}\n"
     ]
    }
   ],
   "source": [
    "port1 = {21: \"FTP\", 22:\"SSH\", 23: \"telnet\", 80: \"http\"}\n",
    "\n",
    "port2 = {} \n",
    "for key, value in port1.items(): \n",
    "    if value in port2: \n",
    "        port2[value].append(key) \n",
    "    else: \n",
    "        port2[value]=[key]\n",
    "        \n",
    "print(port2)"
   ]
  },
  {
   "cell_type": "code",
   "execution_count": 10,
   "metadata": {},
   "outputs": [],
   "source": [
    "##ASSIGNMENT 2"
   ]
  },
  {
   "cell_type": "code",
   "execution_count": 44,
   "metadata": {},
   "outputs": [
    {
     "name": "stdout",
     "output_type": "stream",
     "text": [
      "The original list : [(1, 2), (3, 4), (5, 6), (4, 5)]\n",
      "The final list : [3, 7, 11, 9]\n"
     ]
    }
   ],
   "source": [
    "     \n",
    "list1 = [(1,2), (3,4), (5,6),(4,5)] \n",
    "  \n",
    "print(\"The original list : \" + str(test_list)) \n",
    "  \n",
    "res = [sum(tup) for tup in list1]\n",
    "  \n",
    "print(\"The final list : \" + str(res)) "
   ]
  },
  {
   "cell_type": "code",
   "execution_count": 45,
   "metadata": {},
   "outputs": [],
   "source": [
    "##ASSIGNMENT 3"
   ]
  },
  {
   "cell_type": "code",
   "execution_count": 47,
   "metadata": {},
   "outputs": [
    {
     "name": "stdout",
     "output_type": "stream",
     "text": [
      "[1, 2, 3, 1, 2, 'a', 'hit', 'less']\n"
     ]
    }
   ],
   "source": [
    "list1 = [(1,2,3), [1,2], ['a','hit','less']]\n",
    "\n",
    "list2 = []\n",
    "for sublist in list1:\n",
    "    for item in sublist:\n",
    "        list2.append(item)\n",
    "        \n",
    "print(list2)"
   ]
  },
  {
   "cell_type": "code",
   "execution_count": null,
   "metadata": {},
   "outputs": [],
   "source": []
  }
 ],
 "metadata": {
  "kernelspec": {
   "display_name": "Python 3",
   "language": "python",
   "name": "python3"
  },
  "language_info": {
   "codemirror_mode": {
    "name": "ipython",
    "version": 3
   },
   "file_extension": ".py",
   "mimetype": "text/x-python",
   "name": "python",
   "nbconvert_exporter": "python",
   "pygments_lexer": "ipython3",
   "version": "3.7.6"
  }
 },
 "nbformat": 4,
 "nbformat_minor": 4
}
